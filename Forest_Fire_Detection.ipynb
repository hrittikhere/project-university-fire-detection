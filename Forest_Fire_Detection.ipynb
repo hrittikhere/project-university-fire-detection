{
  "cells": [
    {
      "cell_type": "code",
      "execution_count": null,
      "metadata": {
        "id": "GuSiHcQ6DmhJ"
      },
      "outputs": [],
      "source": [
        "import matplotlib.pyplot as plt\n",
        "import numpy as np\n",
        "import pandas as pd\n",
        "\n",
        "from sklearn import metrics\n",
        "from sklearn.metrics import classification_report,confusion_matrix"
      ]
    },
    {
      "cell_type": "code",
      "execution_count": null,
      "metadata": {
        "id": "ePLsC_QlDqUb"
      },
      "outputs": [],
      "source": [
        "import warnings\n",
        "warnings.filterwarnings(action=\"ignore\")\n",
        "%matplotlib inline\n",
        "pd.set_option(\"display.max_rows\", 1000)\n",
        "pd.set_option(\"display.max_columns\", 1000)"
      ]
    },
    {
      "cell_type": "code",
      "execution_count": null,
      "metadata": {
        "colab": {
          "base_uri": "https://localhost:8080/",
          "height": 520
        },
        "id": "C8ZFVn5vH5zX",
        "outputId": "2c0a5b11-04ab-4705-f617-5535e8f4187a"
      },
      "outputs": [],
      "source": [
        "fires = pd.read_csv(\"forestfires.csv\")    #reading the dataset\n",
        "fires.head(15)    #show the first 15 instances of dataset"
      ]
    },
    {
      "cell_type": "code",
      "execution_count": null,
      "metadata": {
        "colab": {
          "base_uri": "https://localhost:8080/",
          "height": 363
        },
        "id": "3K_CI9ESH6jm",
        "outputId": "740bbb1d-a63e-4a63-980a-45b94bfbe8e8"
      },
      "outputs": [],
      "source": [
        "#show the last 10 instances of dataset\n",
        "fires.tail(10)"
      ]
    },
    {
      "cell_type": "code",
      "execution_count": null,
      "metadata": {
        "colab": {
          "base_uri": "https://localhost:8080/",
          "height": 520
        },
        "id": "Pc9YI86WH6mJ",
        "outputId": "3ab05304-53e5-495a-bbf3-518a113b2219"
      },
      "outputs": [],
      "source": [
        "#changing days into numeric quantity because machine learning model deals with numbers\n",
        "fires.day.replace(('mon','tue','wed','thu','fri','sat','sun'),(1,2,3,4,5,6,7), inplace=True)\n",
        "\n",
        "#changing month into numeric quantity\n",
        "fires.month.replace(('jan','feb','mar','apr','may','jun','jul','aug','sep','oct','nov','dec'),(1,2,3,4,5,6,7,8,9,10,11,12), inplace=True)\n",
        "\n",
        "#showing first 10 instances of dataset after converting days and months into numbers\n",
        "fires.head(15)"
      ]
    },
    {
      "cell_type": "code",
      "execution_count": null,
      "metadata": {
        "colab": {
          "base_uri": "https://localhost:8080/",
          "height": 457
        },
        "id": "XYe_hD3uH6oe",
        "outputId": "14053817-8b27-49ef-d0e1-ed45c6852e29"
      },
      "outputs": [],
      "source": [
        "#generate descriptive statistics of each attribute\n",
        "fires.describe().T"
      ]
    },
    {
      "cell_type": "code",
      "execution_count": null,
      "metadata": {
        "colab": {
          "base_uri": "https://localhost:8080/",
          "height": 206
        },
        "id": "b5rP-iQ6H6rQ",
        "outputId": "d6025a4c-986a-484e-892c-c0ef5a79f66d"
      },
      "outputs": [],
      "source": [
        "#given area of land burnt, but we have to predict if there is fire or not so changing values of area to 0 and 1 only\n",
        "#here 0 represet there is not fire and 1 represent fire, changing all values of area which are greater than 0 to 1\n",
        "fires['area'].values[fires['area'].values > 0] = 1\n",
        "\n",
        "#renaming the area attribute to output for clear understanding\n",
        "fires = fires.rename(columns={'area': 'output'})\n",
        "fires.head(5)"
      ]
    },
    {
      "cell_type": "code",
      "execution_count": null,
      "metadata": {
        "colab": {
          "base_uri": "https://localhost:8080/",
          "height": 457
        },
        "id": "EM7HZzlKH6uP",
        "outputId": "9f638d86-9534-4444-ef84-eb054fed9288"
      },
      "outputs": [],
      "source": [
        "#Compute pairwise correlation of columns\n",
        "fires.corr()"
      ]
    },
    {
      "cell_type": "code",
      "execution_count": null,
      "metadata": {
        "colab": {
          "base_uri": "https://localhost:8080/"
        },
        "id": "f5b_vg8BH6xn",
        "outputId": "4637682a-aeb1-4eb9-b308-a88d8da4260e"
      },
      "outputs": [],
      "source": [
        "#sorting to see which attribute is correlated more to attribut \"output\"\n",
        "fires.corr()['output'].sort_values()\n",
        "#we can see that attribute \"month\" is the mostly correlated  to attribute \"output\""
      ]
    },
    {
      "cell_type": "code",
      "execution_count": null,
      "metadata": {
        "colab": {
          "base_uri": "https://localhost:8080/",
          "height": 206
        },
        "id": "mi1uUQ-BH60Z",
        "outputId": "a813f679-d902-4645-ac41-4a4c3a53c2a7"
      },
      "outputs": [],
      "source": [
        "from sklearn.preprocessing import StandardScaler\n",
        "#standardization of data\n",
        "#removing the mean and scaling it to unit variance\n",
        "#score=(x-mean)/std\n",
        "scaler = StandardScaler()\n",
        "#fitting forest fire dataset to scaler by removing the attribute output\n",
        "scaler.fit(fires.drop('output',axis=1))\n",
        "\n",
        "scaled_features = scaler.transform(fires.drop('output',axis=1))\n",
        "df_feat = pd.DataFrame(scaled_features,columns=fires.columns[:-1])\n",
        "df_feat.head()"
      ]
    },
    {
      "cell_type": "code",
      "execution_count": null,
      "metadata": {
        "id": "RI-cHYASH63H"
      },
      "outputs": [],
      "source": [
        "from sklearn.model_selection import train_test_split\n",
        "X = df_feat\n",
        "y = fires['output']\n",
        "X_train, X_test, y_train, y_test = train_test_split(X,y,test_size=0.35,random_state=200)"
      ]
    },
    {
      "cell_type": "markdown",
      "metadata": {
        "id": "ueYzrGlGIWyG"
      },
      "source": [
        "**Logistic Regression**"
      ]
    },
    {
      "cell_type": "code",
      "execution_count": null,
      "metadata": {
        "colab": {
          "base_uri": "https://localhost:8080/"
        },
        "id": "g7TPoQx7IYG5",
        "outputId": "7d60cb1a-bbeb-4ec1-c7e6-700feb1d4537"
      },
      "outputs": [],
      "source": [
        "#importing logistic regression\n",
        "from sklearn.linear_model import LogisticRegression\n",
        "logistic_model = LogisticRegression()\n",
        "logistic_model.fit(X_train,y_train)\n",
        "\n",
        "predictions = logistic_model.predict(X_test)\n",
        "\n",
        "#finding precision,recall,accuracy\n",
        "print(\"Precision:\",metrics.precision_score(y_test, predictions))\n",
        "print(\"Recall:\",metrics.recall_score(y_test, predictions))\n",
        "print(\"Accuracy:\",metrics.accuracy_score(y_test, predictions))\n",
        "\n",
        "print(confusion_matrix(y_test,predictions))\n",
        "print(classification_report(y_test,predictions))"
      ]
    },
    {
      "cell_type": "markdown",
      "metadata": {
        "id": "_qNaj0_0Iht2"
      },
      "source": [
        "**Prediction**"
      ]
    },
    {
      "cell_type": "code",
      "execution_count": null,
      "metadata": {
        "colab": {
          "base_uri": "https://localhost:8080/"
        },
        "id": "o2aCi-mHIefg",
        "outputId": "6994f219-4207-4db3-d299-293c84f670ca"
      },
      "outputs": [],
      "source": [
        "#prediction using logistic regression\n",
        "class_label={1:'There is Fire',0:'There is no fire'}\n",
        "x_new=[[1, 4, 9 ,1 ,91.5, 130.1, 807.1, 7.5, 21.3, 35, 2.2, 0]]\n",
        "\n",
        "y_predict=logistic_model.predict(x_new)\n",
        "print(class_label[y_predict[0]])"
      ]
    },
    {
      "cell_type": "markdown",
      "metadata": {
        "id": "LvAyNj14Iot9"
      },
      "source": [
        "**KNN**"
      ]
    },
    {
      "cell_type": "code",
      "execution_count": null,
      "metadata": {
        "id": "Q5zRg-LJIemG"
      },
      "outputs": [],
      "source": [
        "#importing k nearest neighbour\n",
        "from sklearn.neighbors import KNeighborsClassifier\n",
        "k_nearest_neighbor_model = KNeighborsClassifier(n_neighbors=1)\n",
        "k_nearest_neighbor_model.fit(X_train,y_train)\n",
        "pred = k_nearest_neighbor_model.predict(X_test)"
      ]
    },
    {
      "cell_type": "code",
      "execution_count": null,
      "metadata": {
        "colab": {
          "base_uri": "https://localhost:8080/",
          "height": 581
        },
        "id": "OrDz4gdBIeo-",
        "outputId": "5d19b7de-2dd0-48f1-b7c0-1356aa581e92"
      },
      "outputs": [],
      "source": [
        "error_rate = []\n",
        "for i in range(1,100):\n",
        "    k_nearest_neighbor_model = KNeighborsClassifier(n_neighbors=i)\n",
        "    k_nearest_neighbor_model.fit(X_train,y_train)\n",
        "    pred_i = k_nearest_neighbor_model.predict(X_test)\n",
        "    error_rate.append(np.mean(pred_i != y_test))\n",
        "\n",
        "\n",
        "plt.figure(figsize=(10,6))\n",
        "plt.plot(range(1,100),error_rate,color='blue', linestyle='dashed', marker='o',\n",
        "         markerfacecolor='red', markersize=10)\n",
        "plt.title('Error Rate vs. K Value')\n",
        "plt.xlabel('K')\n",
        "plt.ylabel('Error Rate')"
      ]
    },
    {
      "cell_type": "code",
      "execution_count": null,
      "metadata": {
        "colab": {
          "base_uri": "https://localhost:8080/"
        },
        "id": "fq044SdKIer2",
        "outputId": "858c9bc3-f59e-4eb8-c0be-f522650c1185"
      },
      "outputs": [],
      "source": [
        "knn = KNeighborsClassifier(n_neighbors=7)\n",
        "knn.fit(X_train,y_train)\n",
        "pred = knn.predict(X_test)\n",
        "print('WITH K=7')\n",
        "print('\\n')\n",
        "print(confusion_matrix(y_test,pred))\n",
        "print('\\n')\n",
        "print(classification_report(y_test,pred))"
      ]
    },
    {
      "cell_type": "code",
      "execution_count": null,
      "metadata": {
        "colab": {
          "base_uri": "https://localhost:8080/"
        },
        "id": "bNQJvzjnIevJ",
        "outputId": "0629f2b5-1c26-47c8-854b-cf24d1a1844c"
      },
      "outputs": [],
      "source": [
        "knn = KNeighborsClassifier(n_neighbors=17)\n",
        "knn.fit(X_train,y_train)\n",
        "pred = knn.predict(X_test)\n",
        "print('WITH K=17')\n",
        "print('\\n')\n",
        "print(confusion_matrix(y_test,pred))\n",
        "print('\\n')\n",
        "print(classification_report(y_test,pred))"
      ]
    },
    {
      "cell_type": "code",
      "execution_count": null,
      "metadata": {
        "colab": {
          "base_uri": "https://localhost:8080/"
        },
        "id": "tn_jVN__Iexw",
        "outputId": "3ad7a0ab-f99a-482c-fe85-212d7882c583"
      },
      "outputs": [],
      "source": [
        "knn.score(X_test, y_test)"
      ]
    },
    {
      "cell_type": "code",
      "execution_count": null,
      "metadata": {
        "colab": {
          "base_uri": "https://localhost:8080/"
        },
        "id": "DecrD-krIe0e",
        "outputId": "fb186eba-697d-4098-cad1-cf0f9f75ea62"
      },
      "outputs": [],
      "source": [
        "from sklearn import metrics\n",
        "print(\"Accuracy:\",metrics.accuracy_score(y_test, pred))\n",
        "print(\"Precision:\",metrics.precision_score(y_test, pred))\n",
        "print(\"Recall:\",metrics.recall_score(y_test, pred))"
      ]
    },
    {
      "cell_type": "markdown",
      "metadata": {
        "id": "JaRrEfEvI6jd"
      },
      "source": [
        "**Prediction**"
      ]
    },
    {
      "cell_type": "code",
      "execution_count": null,
      "metadata": {
        "colab": {
          "base_uri": "https://localhost:8080/"
        },
        "id": "e-9bYOf7Ie3O",
        "outputId": "02df3240-5105-47c6-a3ca-1cd1d8e32fdb"
      },
      "outputs": [],
      "source": [
        "#prediction using knn\n",
        "classes={0:'safe',1:'On Fire'}\n",
        "x_new=[[1, 4, 9 ,1 ,91.5, 130.1, 807.1, 7.5, 21.3, 35, 2.2, 0]]\n",
        "y_predict=knn.predict(x_new)\n",
        "print(classes[y_predict[0]])"
      ]
    },
    {
      "cell_type": "markdown",
      "metadata": {
        "id": "iOAbkpNJI9gA"
      },
      "source": [
        "**SVM**"
      ]
    },
    {
      "cell_type": "code",
      "execution_count": null,
      "metadata": {
        "colab": {
          "base_uri": "https://localhost:8080/"
        },
        "id": "HinY1I1WIe57",
        "outputId": "7b9e31db-a510-4138-db6f-dda655a7b61e"
      },
      "outputs": [],
      "source": [
        "# Support Vector Machine\n",
        "from sklearn.svm import SVC\n",
        "\n",
        "# fit a SVM model to the data\n",
        "\n",
        "X = fires.drop('output', axis=1)\n",
        "y = fires['output']\n",
        "\n",
        "X_train, X_test, y_train, y_test = train_test_split(X,y, test_size=0.3,random_state=101)\n",
        "\n",
        "svc = SVC()\n",
        "svc.fit(X_train, y_train)\n",
        "# make predictions\n",
        "prediction = svc.predict(X_test)\n",
        "# summarize the fit of the model\n",
        "print(metrics.classification_report(y_test, prediction))\n",
        "print(metrics.confusion_matrix(y_test, prediction))\n",
        "\n",
        "print(\"Accuracy:\",metrics.accuracy_score(y_test, prediction))\n",
        "print(\"Precision:\",metrics.precision_score(y_test, prediction))\n",
        "print(\"Recall:\",metrics.recall_score(y_test, prediction))"
      ]
    },
    {
      "cell_type": "code",
      "execution_count": null,
      "metadata": {
        "id": "4tzJ6f39Ie8Y"
      },
      "outputs": [],
      "source": [
        "#prediction using svm\n",
        "classes={0:'safe',1:'On Fire'}\n",
        "x_new=[[1, 4, 9 ,1 ,91.5, 130.1, 807.1, 7.5, 21.3, 35, 2.2, 0]]\n",
        "y_predict=svc.predict(x_new)\n",
        "print(classes[y_predict[0]])"
      ]
    },
    {
      "cell_type": "markdown",
      "metadata": {
        "id": "SMJpYOVIJEPk"
      },
      "source": [
        "**Decision Tree**"
      ]
    },
    {
      "cell_type": "code",
      "execution_count": null,
      "metadata": {
        "colab": {
          "base_uri": "https://localhost:8080/"
        },
        "id": "CGsQVjZ0IfNX",
        "outputId": "a415685e-7c7d-49cb-c7d3-02842f8d5684"
      },
      "outputs": [],
      "source": [
        "#import decision trees\n",
        "from sklearn import metrics\n",
        "from sklearn.tree import DecisionTreeClassifier\n",
        "\n",
        "X = fires.drop('output', axis=1)\n",
        "y = fires['output']\n",
        "\n",
        "X_train, X_test, y_train, y_test = train_test_split(X,y, test_size=0.3,random_state=101)\n",
        "\n",
        "d_tree = DecisionTreeClassifier()\n",
        "d_tree.fit(X_train, y_train)\n",
        "\n",
        "# make predictions\n",
        "predicted = d_tree.predict(X_test)\n",
        "# summarize the fit of the model\n",
        "print(metrics.classification_report(y_test, predicted))\n",
        "print(metrics.confusion_matrix(y_test, predicted))\n",
        "\n",
        "print(\"Accuracy:\",metrics.accuracy_score(y_test, predicted))\n",
        "print(\"Precision:\",metrics.precision_score(y_test, predicted))\n",
        "print(\"Recall:\",metrics.recall_score(y_test, predicted))"
      ]
    },
    {
      "cell_type": "code",
      "execution_count": null,
      "metadata": {
        "colab": {
          "base_uri": "https://localhost:8080/"
        },
        "id": "7AsuAertJHGJ",
        "outputId": "5dbd5ee8-947c-440b-e394-fc9fc84ae9f8"
      },
      "outputs": [],
      "source": [
        "#prediction using decision tree\n",
        "classes={0:'safe',1:'On Fire'}\n",
        "x_new=[[1, 4, 9 ,1 ,91.5, 130.1, 807.1, 7.5, 21.3, 35, 2.2, 0]]\n",
        "y_predict=d_tree.predict(x_new)\n",
        "print(classes[y_predict[0]])"
      ]
    },
    {
      "cell_type": "markdown",
      "metadata": {
        "id": "EVYVbVXtJKcx"
      },
      "source": [
        "**Naive Bayes**"
      ]
    },
    {
      "cell_type": "code",
      "execution_count": null,
      "metadata": {
        "colab": {
          "base_uri": "https://localhost:8080/"
        },
        "id": "_4jAMylLJHLK",
        "outputId": "0c16f557-27f4-48a4-a0bb-2bd36d78757e"
      },
      "outputs": [],
      "source": [
        "#import naive bayes\n",
        "from sklearn import metrics\n",
        "from sklearn.naive_bayes import GaussianNB\n",
        "\n",
        "X = fires.drop('output', axis=1)\n",
        "y = fires['output']\n",
        "\n",
        "X_train, X_test, y_train, y_test = train_test_split(X,y, test_size=0.3,random_state=101)\n",
        "\n",
        "# fit a Naive Bayes model to the data\n",
        "G_NB = GaussianNB()\n",
        "G_NB.fit(X_train,y_train)\n",
        "print(G_NB)\n",
        "# make predictions\n",
        "\n",
        "predict = G_NB.predict(X_test)\n",
        "# summarize the fit of the model\n",
        "print(metrics.classification_report(y_test, predict))\n",
        "print(metrics.confusion_matrix(y_test, predict))\n",
        "\n",
        "print(\"Accuracy:\",metrics.accuracy_score(y_test, predict))\n",
        "print(\"Precision:\",metrics.precision_score(y_test, predict))\n",
        "print(\"Recall:\",metrics.recall_score(y_test, predict))"
      ]
    },
    {
      "cell_type": "code",
      "execution_count": null,
      "metadata": {
        "colab": {
          "base_uri": "https://localhost:8080/"
        },
        "id": "Bq97a04JJPJp",
        "outputId": "454e23b4-42ea-49f2-e91f-732b714f4f55"
      },
      "outputs": [],
      "source": [
        "#prediction using naive bayes\n",
        "classes={0:'safe',1:'On Fire'}\n",
        "x_new=[[1, 4, 9 ,1 ,91.5, 130.1, 807.1, 7.5, 21.3, 35, 2.2, 0]]\n",
        "y_predict=G_NB.predict(x_new)\n",
        "print(classes[y_predict[0]])"
      ]
    },
    {
      "cell_type": "markdown",
      "metadata": {
        "id": "te5qGzwiJQ2a"
      },
      "source": [
        "**Random Forest**"
      ]
    },
    {
      "cell_type": "code",
      "execution_count": null,
      "metadata": {
        "colab": {
          "base_uri": "https://localhost:8080/"
        },
        "id": "EUT8ZUZhJSfi",
        "outputId": "c0d24076-030a-4cb8-a12c-f6baf5265fa3"
      },
      "outputs": [],
      "source": [
        "#import random forest\n",
        "from sklearn.ensemble import RandomForestClassifier\n",
        "X = fires.drop('output', axis=1)\n",
        "y = fires['output']\n",
        "\n",
        "X_train, X_test, y_train, y_test = train_test_split(X,y, test_size=0.3,random_state=101)\n",
        "\n",
        "# fit a Naive Bayes model to the data\n",
        "random_forest = RandomForestClassifier()\n",
        "random_forest.fit(X_train,y_train)\n",
        "# print(random_forest)\n",
        "# make predictions\n",
        "\n",
        "predict = random_forest.predict(X_test)\n",
        "# summarize the fit of the model\n",
        "print(metrics.classification_report(y_test, predict))\n",
        "print(metrics.confusion_matrix(y_test, predict))\n",
        "\n",
        "print(\"Accuracy:\",metrics.accuracy_score(y_test, predict))\n",
        "print(\"Precision:\",metrics.precision_score(y_test, predict))\n",
        "print(\"Recall:\",metrics.recall_score(y_test, predict))"
      ]
    },
    {
      "cell_type": "code",
      "execution_count": null,
      "metadata": {
        "colab": {
          "base_uri": "https://localhost:8080/"
        },
        "id": "vHAUiOpfJWpg",
        "outputId": "48dfdd0b-0aea-448f-905c-d068882553c0"
      },
      "outputs": [],
      "source": [
        "#prediction using random forest\n",
        "classes={0:'safe',1:'On Fire'}\n",
        "x_new=[[1, 4, 9 ,1 ,91.5, 130.1, 807.1, 7.5, 21.3, 35, 2.2, 0]]\n",
        "y_predict=random_forest.predict(x_new)\n",
        "print(classes[y_predict[0]])"
      ]
    }
  ],
  "metadata": {
    "colab": {
      "provenance": []
    },
    "kernelspec": {
      "display_name": "Python 3",
      "name": "python3"
    },
    "language_info": {
      "codemirror_mode": {
        "name": "ipython",
        "version": 3
      },
      "file_extension": ".py",
      "mimetype": "text/x-python",
      "name": "python",
      "nbconvert_exporter": "python",
      "pygments_lexer": "ipython3",
      "version": "3.0.0"
    }
  },
  "nbformat": 4,
  "nbformat_minor": 0
}
